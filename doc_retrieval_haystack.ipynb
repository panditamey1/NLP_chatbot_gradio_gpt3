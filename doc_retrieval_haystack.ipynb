{
  "nbformat": 4,
  "nbformat_minor": 0,
  "metadata": {
    "colab": {
      "provenance": [],
      "authorship_tag": "ABX9TyMfP8gDP2IgBC1KDY1YtGQ5",
      "include_colab_link": true
    },
    "kernelspec": {
      "name": "python3",
      "display_name": "Python 3"
    },
    "language_info": {
      "name": "python"
    },
    "accelerator": "GPU",
    "gpuClass": "standard"
  },
  "cells": [
    {
      "cell_type": "markdown",
      "metadata": {
        "id": "view-in-github",
        "colab_type": "text"
      },
      "source": [
        "<a href=\"https://colab.research.google.com/github/panditamey1/NLP_chatbot_gradio_gpt3/blob/main/doc_retrieval_haystack.ipynb\" target=\"_parent\"><img src=\"https://colab.research.google.com/assets/colab-badge.svg\" alt=\"Open In Colab\"/></a>"
      ]
    },
    {
      "cell_type": "code",
      "source": [
        "%%bash\n",
        "\n",
        "nvidia-smi"
      ],
      "metadata": {
        "colab": {
          "base_uri": "https://localhost:8080/"
        },
        "id": "VOsodeYdLPOx",
        "outputId": "8276ed84-224f-4a97-c0e0-842f31a5b808"
      },
      "execution_count": 1,
      "outputs": [
        {
          "output_type": "stream",
          "name": "stdout",
          "text": [
            "Tue Nov 29 07:11:21 2022       \n",
            "+-----------------------------------------------------------------------------+\n",
            "| NVIDIA-SMI 460.32.03    Driver Version: 460.32.03    CUDA Version: 11.2     |\n",
            "|-------------------------------+----------------------+----------------------+\n",
            "| GPU  Name        Persistence-M| Bus-Id        Disp.A | Volatile Uncorr. ECC |\n",
            "| Fan  Temp  Perf  Pwr:Usage/Cap|         Memory-Usage | GPU-Util  Compute M. |\n",
            "|                               |                      |               MIG M. |\n",
            "|===============================+======================+======================|\n",
            "|   0  Tesla T4            Off  | 00000000:00:04.0 Off |                    0 |\n",
            "| N/A   43C    P8    11W /  70W |      0MiB / 15109MiB |      0%      Default |\n",
            "|                               |                      |                  N/A |\n",
            "+-------------------------------+----------------------+----------------------+\n",
            "                                                                               \n",
            "+-----------------------------------------------------------------------------+\n",
            "| Processes:                                                                  |\n",
            "|  GPU   GI   CI        PID   Type   Process name                  GPU Memory |\n",
            "|        ID   ID                                                   Usage      |\n",
            "|=============================================================================|\n",
            "|  No running processes found                                                 |\n",
            "+-----------------------------------------------------------------------------+\n"
          ]
        }
      ]
    },
    {
      "cell_type": "code",
      "source": [
        "%%bash\n",
        "\n",
        "pip install --upgrade pip\n",
        "pip install git+https://github.com/deepset-ai/haystack.git#egg=farm-haystack[colab]"
      ],
      "metadata": {
        "colab": {
          "base_uri": "https://localhost:8080/"
        },
        "id": "-91QoBKfLUpo",
        "outputId": "c25924e3-9577-48bf-f056-fb446cd0d721"
      },
      "execution_count": 2,
      "outputs": [
        {
          "output_type": "stream",
          "name": "stdout",
          "text": [
            "Looking in indexes: https://pypi.org/simple, https://us-python.pkg.dev/colab-wheels/public/simple/\n",
            "Requirement already satisfied: pip in /usr/local/lib/python3.7/dist-packages (22.3.1)\n",
            "Looking in indexes: https://pypi.org/simple, https://us-python.pkg.dev/colab-wheels/public/simple/\n",
            "Collecting farm-haystack[colab]\n",
            "  Cloning https://github.com/deepset-ai/haystack.git to /tmp/pip-install-01b1jau9/farm-haystack_8712dc2ea49946a98261b88bc9d4367d\n",
            "  Resolved https://github.com/deepset-ai/haystack.git to commit 839eef66958578efe7135f54e14f3fe462c78f43\n",
            "  Installing build dependencies: started\n",
            "  Installing build dependencies: finished with status 'done'\n",
            "  Getting requirements to build wheel: started\n",
            "  Getting requirements to build wheel: finished with status 'done'\n",
            "  Preparing metadata (pyproject.toml): started\n",
            "  Preparing metadata (pyproject.toml): finished with status 'done'\n",
            "Requirement already satisfied: quantulum3 in /usr/local/lib/python3.7/dist-packages (from farm-haystack[colab]) (0.7.11)\n",
            "Requirement already satisfied: nltk in /usr/local/lib/python3.7/dist-packages (from farm-haystack[colab]) (3.7)\n",
            "Requirement already satisfied: python-docx in /usr/local/lib/python3.7/dist-packages (from farm-haystack[colab]) (0.8.11)\n",
            "Requirement already satisfied: scikit-learn>=1.0.0 in /usr/local/lib/python3.7/dist-packages (from farm-haystack[colab]) (1.0.2)\n",
            "Requirement already satisfied: rapidfuzz<2.8.0,>=2.0.15 in /usr/local/lib/python3.7/dist-packages (from farm-haystack[colab]) (2.7.0)\n",
            "Requirement already satisfied: pandas in /usr/local/lib/python3.7/dist-packages (from farm-haystack[colab]) (1.3.5)\n",
            "Requirement already satisfied: requests in /usr/local/lib/python3.7/dist-packages (from farm-haystack[colab]) (2.23.0)\n",
            "Requirement already satisfied: more-itertools in /usr/local/lib/python3.7/dist-packages (from farm-haystack[colab]) (9.0.0)\n",
            "Requirement already satisfied: mmh3 in /usr/local/lib/python3.7/dist-packages (from farm-haystack[colab]) (3.0.0)\n",
            "Requirement already satisfied: azure-ai-formrecognizer>=3.2.0b2 in /usr/local/lib/python3.7/dist-packages (from farm-haystack[colab]) (3.2.0)\n",
            "Requirement already satisfied: rank-bm25 in /usr/local/lib/python3.7/dist-packages (from farm-haystack[colab]) (0.2.2)\n",
            "Requirement already satisfied: posthog in /usr/local/lib/python3.7/dist-packages (from farm-haystack[colab]) (2.2.0)\n",
            "Requirement already satisfied: langdetect in /usr/local/lib/python3.7/dist-packages (from farm-haystack[colab]) (1.0.9)\n",
            "Requirement already satisfied: sentence-transformers>=2.2.0 in /usr/local/lib/python3.7/dist-packages (from farm-haystack[colab]) (2.2.2)\n",
            "Requirement already satisfied: transformers==4.21.2 in /usr/local/lib/python3.7/dist-packages (from farm-haystack[colab]) (4.21.2)\n",
            "Requirement already satisfied: networkx in /usr/local/lib/python3.7/dist-packages (from farm-haystack[colab]) (2.6.3)\n",
            "Requirement already satisfied: mlflow in /usr/local/lib/python3.7/dist-packages (from farm-haystack[colab]) (1.30.0)\n",
            "Requirement already satisfied: elasticsearch<8,>=7.7 in /usr/local/lib/python3.7/dist-packages (from farm-haystack[colab]) (7.17.7)\n",
            "Requirement already satisfied: dill in /usr/local/lib/python3.7/dist-packages (from farm-haystack[colab]) (0.3.6)\n",
            "Requirement already satisfied: scipy>=1.3.2 in /usr/local/lib/python3.7/dist-packages (from farm-haystack[colab]) (1.7.3)\n",
            "Requirement already satisfied: tika in /usr/local/lib/python3.7/dist-packages (from farm-haystack[colab]) (1.24)\n",
            "Requirement already satisfied: jsonschema in /usr/local/lib/python3.7/dist-packages (from farm-haystack[colab]) (4.3.3)\n",
            "Requirement already satisfied: seqeval in /usr/local/lib/python3.7/dist-packages (from farm-haystack[colab]) (1.2.2)\n",
            "Requirement already satisfied: torch<1.13,>1.9 in /usr/local/lib/python3.7/dist-packages (from farm-haystack[colab]) (1.12.1+cu113)\n",
            "Requirement already satisfied: tqdm in /usr/local/lib/python3.7/dist-packages (from farm-haystack[colab]) (4.64.1)\n",
            "Requirement already satisfied: huggingface-hub>=0.5.0 in /usr/local/lib/python3.7/dist-packages (from farm-haystack[colab]) (0.11.1)\n",
            "Requirement already satisfied: importlib-metadata in /usr/local/lib/python3.7/dist-packages (from farm-haystack[colab]) (4.13.0)\n",
            "Requirement already satisfied: pydantic in /usr/local/lib/python3.7/dist-packages (from farm-haystack[colab]) (1.10.2)\n",
            "Requirement already satisfied: pillow<=9.0.0 in /usr/local/lib/python3.7/dist-packages (from farm-haystack[colab]) (7.1.2)\n",
            "Requirement already satisfied: regex!=2019.12.17 in /usr/local/lib/python3.7/dist-packages (from transformers==4.21.2->farm-haystack[colab]) (2022.6.2)\n",
            "Requirement already satisfied: pyyaml>=5.1 in /usr/local/lib/python3.7/dist-packages (from transformers==4.21.2->farm-haystack[colab]) (6.0)\n",
            "Requirement already satisfied: tokenizers!=0.11.3,<0.13,>=0.11.1 in /usr/local/lib/python3.7/dist-packages (from transformers==4.21.2->farm-haystack[colab]) (0.12.1)\n",
            "Requirement already satisfied: packaging>=20.0 in /usr/local/lib/python3.7/dist-packages (from transformers==4.21.2->farm-haystack[colab]) (21.3)\n",
            "Requirement already satisfied: filelock in /usr/local/lib/python3.7/dist-packages (from transformers==4.21.2->farm-haystack[colab]) (3.8.0)\n",
            "Requirement already satisfied: numpy>=1.17 in /usr/local/lib/python3.7/dist-packages (from transformers==4.21.2->farm-haystack[colab]) (1.21.6)\n",
            "Requirement already satisfied: msrest>=0.6.21 in /usr/local/lib/python3.7/dist-packages (from azure-ai-formrecognizer>=3.2.0b2->farm-haystack[colab]) (0.7.1)\n",
            "Requirement already satisfied: azure-core<2.0.0,>=1.23.0 in /usr/local/lib/python3.7/dist-packages (from azure-ai-formrecognizer>=3.2.0b2->farm-haystack[colab]) (1.26.1)\n",
            "Requirement already satisfied: typing-extensions>=4.0.1 in /usr/local/lib/python3.7/dist-packages (from azure-ai-formrecognizer>=3.2.0b2->farm-haystack[colab]) (4.1.1)\n",
            "Requirement already satisfied: azure-common~=1.1 in /usr/local/lib/python3.7/dist-packages (from azure-ai-formrecognizer>=3.2.0b2->farm-haystack[colab]) (1.1.28)\n",
            "Requirement already satisfied: certifi in /usr/local/lib/python3.7/dist-packages (from elasticsearch<8,>=7.7->farm-haystack[colab]) (2022.9.24)\n",
            "Requirement already satisfied: urllib3<2,>=1.21.1 in /usr/local/lib/python3.7/dist-packages (from elasticsearch<8,>=7.7->farm-haystack[colab]) (1.24.3)\n",
            "Requirement already satisfied: jarowinkler<2.0.0,>=1.2.0 in /usr/local/lib/python3.7/dist-packages (from rapidfuzz<2.8.0,>=2.0.15->farm-haystack[colab]) (1.2.3)\n",
            "Requirement already satisfied: joblib>=0.11 in /usr/local/lib/python3.7/dist-packages (from scikit-learn>=1.0.0->farm-haystack[colab]) (1.2.0)\n",
            "Requirement already satisfied: threadpoolctl>=2.0.0 in /usr/local/lib/python3.7/dist-packages (from scikit-learn>=1.0.0->farm-haystack[colab]) (3.1.0)\n",
            "Requirement already satisfied: torchvision in /usr/local/lib/python3.7/dist-packages (from sentence-transformers>=2.2.0->farm-haystack[colab]) (0.13.1+cu113)\n",
            "Requirement already satisfied: sentencepiece in /usr/local/lib/python3.7/dist-packages (from sentence-transformers>=2.2.0->farm-haystack[colab]) (0.1.97)\n",
            "Requirement already satisfied: zipp>=0.5 in /usr/local/lib/python3.7/dist-packages (from importlib-metadata->farm-haystack[colab]) (3.10.0)\n",
            "Requirement already satisfied: pyrsistent!=0.17.0,!=0.17.1,!=0.17.2,>=0.14.0 in /usr/local/lib/python3.7/dist-packages (from jsonschema->farm-haystack[colab]) (0.19.2)\n",
            "Requirement already satisfied: importlib-resources>=1.4.0 in /usr/local/lib/python3.7/dist-packages (from jsonschema->farm-haystack[colab]) (5.10.0)\n",
            "Requirement already satisfied: attrs>=17.4.0 in /usr/local/lib/python3.7/dist-packages (from jsonschema->farm-haystack[colab]) (22.1.0)\n",
            "Requirement already satisfied: six in /usr/local/lib/python3.7/dist-packages (from langdetect->farm-haystack[colab]) (1.15.0)\n",
            "Requirement already satisfied: prometheus-flask-exporter<1 in /usr/local/lib/python3.7/dist-packages (from mlflow->farm-haystack[colab]) (0.21.0)\n",
            "Requirement already satisfied: databricks-cli<1,>=0.8.7 in /usr/local/lib/python3.7/dist-packages (from mlflow->farm-haystack[colab]) (0.17.3)\n",
            "Requirement already satisfied: querystring-parser<2 in /usr/local/lib/python3.7/dist-packages (from mlflow->farm-haystack[colab]) (1.2.4)\n",
            "Requirement already satisfied: cloudpickle<3 in /usr/local/lib/python3.7/dist-packages (from mlflow->farm-haystack[colab]) (1.5.0)\n",
            "Requirement already satisfied: sqlalchemy<2,>=1.4.0 in /usr/local/lib/python3.7/dist-packages (from mlflow->farm-haystack[colab]) (1.4.44)\n",
            "Requirement already satisfied: gitpython<4,>=2.1.0 in /usr/local/lib/python3.7/dist-packages (from mlflow->farm-haystack[colab]) (3.1.29)\n",
            "Requirement already satisfied: click<9,>=7.0 in /usr/local/lib/python3.7/dist-packages (from mlflow->farm-haystack[colab]) (7.1.2)\n",
            "Requirement already satisfied: gunicorn<21 in /usr/local/lib/python3.7/dist-packages (from mlflow->farm-haystack[colab]) (20.1.0)\n",
            "Requirement already satisfied: entrypoints<1 in /usr/local/lib/python3.7/dist-packages (from mlflow->farm-haystack[colab]) (0.4)\n",
            "Requirement already satisfied: Flask<3 in /usr/local/lib/python3.7/dist-packages (from mlflow->farm-haystack[colab]) (1.1.4)\n",
            "Requirement already satisfied: pytz<2023 in /usr/local/lib/python3.7/dist-packages (from mlflow->farm-haystack[colab]) (2022.6)\n",
            "Requirement already satisfied: docker<7,>=4.0.0 in /usr/local/lib/python3.7/dist-packages (from mlflow->farm-haystack[colab]) (5.0.3)\n",
            "Requirement already satisfied: alembic<2 in /usr/local/lib/python3.7/dist-packages (from mlflow->farm-haystack[colab]) (1.8.1)\n",
            "Requirement already satisfied: sqlparse<1,>=0.4.0 in /usr/local/lib/python3.7/dist-packages (from mlflow->farm-haystack[colab]) (0.4.3)\n",
            "Requirement already satisfied: protobuf<5,>=3.12.0 in /usr/local/lib/python3.7/dist-packages (from mlflow->farm-haystack[colab]) (3.19.6)\n",
            "Requirement already satisfied: python-dateutil>=2.7.3 in /usr/local/lib/python3.7/dist-packages (from pandas->farm-haystack[colab]) (2.8.2)\n",
            "Requirement already satisfied: idna<3,>=2.5 in /usr/local/lib/python3.7/dist-packages (from requests->farm-haystack[colab]) (2.10)\n",
            "Requirement already satisfied: chardet<4,>=3.0.2 in /usr/local/lib/python3.7/dist-packages (from requests->farm-haystack[colab]) (3.0.4)\n",
            "Requirement already satisfied: monotonic>=1.5 in /usr/local/lib/python3.7/dist-packages (from posthog->farm-haystack[colab]) (1.6)\n",
            "Requirement already satisfied: backoff<2.0.0,>=1.10.0 in /usr/local/lib/python3.7/dist-packages (from posthog->farm-haystack[colab]) (1.11.1)\n",
            "Requirement already satisfied: lxml>=2.3.2 in /usr/local/lib/python3.7/dist-packages (from python-docx->farm-haystack[colab]) (4.9.1)\n",
            "Requirement already satisfied: num2words in /usr/local/lib/python3.7/dist-packages (from quantulum3->farm-haystack[colab]) (0.5.12)\n",
            "Requirement already satisfied: inflect in /usr/local/lib/python3.7/dist-packages (from quantulum3->farm-haystack[colab]) (2.1.0)\n",
            "Requirement already satisfied: setuptools in /usr/local/lib/python3.7/dist-packages (from tika->farm-haystack[colab]) (57.4.0)\n",
            "Requirement already satisfied: Mako in /usr/local/lib/python3.7/dist-packages (from alembic<2->mlflow->farm-haystack[colab]) (1.2.4)\n",
            "Requirement already satisfied: tabulate>=0.7.7 in /usr/local/lib/python3.7/dist-packages (from databricks-cli<1,>=0.8.7->mlflow->farm-haystack[colab]) (0.8.10)\n",
            "Requirement already satisfied: pyjwt>=1.7.0 in /usr/local/lib/python3.7/dist-packages (from databricks-cli<1,>=0.8.7->mlflow->farm-haystack[colab]) (2.6.0)\n",
            "Requirement already satisfied: oauthlib>=3.1.0 in /usr/local/lib/python3.7/dist-packages (from databricks-cli<1,>=0.8.7->mlflow->farm-haystack[colab]) (3.2.2)\n",
            "Requirement already satisfied: websocket-client>=0.32.0 in /usr/local/lib/python3.7/dist-packages (from docker<7,>=4.0.0->mlflow->farm-haystack[colab]) (1.4.2)\n",
            "Requirement already satisfied: itsdangerous<2.0,>=0.24 in /usr/local/lib/python3.7/dist-packages (from Flask<3->mlflow->farm-haystack[colab]) (1.1.0)\n",
            "Requirement already satisfied: Werkzeug<2.0,>=0.15 in /usr/local/lib/python3.7/dist-packages (from Flask<3->mlflow->farm-haystack[colab]) (1.0.1)\n",
            "Requirement already satisfied: Jinja2<3.0,>=2.10.1 in /usr/local/lib/python3.7/dist-packages (from Flask<3->mlflow->farm-haystack[colab]) (2.11.3)\n",
            "Requirement already satisfied: gitdb<5,>=4.0.1 in /usr/local/lib/python3.7/dist-packages (from gitpython<4,>=2.1.0->mlflow->farm-haystack[colab]) (4.0.10)\n",
            "Requirement already satisfied: requests-oauthlib>=0.5.0 in /usr/local/lib/python3.7/dist-packages (from msrest>=0.6.21->azure-ai-formrecognizer>=3.2.0b2->farm-haystack[colab]) (1.3.1)\n",
            "Requirement already satisfied: isodate>=0.6.0 in /usr/local/lib/python3.7/dist-packages (from msrest>=0.6.21->azure-ai-formrecognizer>=3.2.0b2->farm-haystack[colab]) (0.6.1)\n",
            "Requirement already satisfied: pyparsing!=3.0.5,>=2.0.2 in /usr/local/lib/python3.7/dist-packages (from packaging>=20.0->transformers==4.21.2->farm-haystack[colab]) (3.0.9)\n",
            "Requirement already satisfied: prometheus-client in /usr/local/lib/python3.7/dist-packages (from prometheus-flask-exporter<1->mlflow->farm-haystack[colab]) (0.15.0)\n",
            "Requirement already satisfied: greenlet!=0.4.17 in /usr/local/lib/python3.7/dist-packages (from sqlalchemy<2,>=1.4.0->mlflow->farm-haystack[colab]) (2.0.1)\n",
            "Requirement already satisfied: docopt>=0.6.2 in /usr/local/lib/python3.7/dist-packages (from num2words->quantulum3->farm-haystack[colab]) (0.6.2)\n",
            "Requirement already satisfied: smmap<6,>=3.0.1 in /usr/local/lib/python3.7/dist-packages (from gitdb<5,>=4.0.1->gitpython<4,>=2.1.0->mlflow->farm-haystack[colab]) (5.0.0)\n",
            "Requirement already satisfied: MarkupSafe>=0.23 in /usr/local/lib/python3.7/dist-packages (from Jinja2<3.0,>=2.10.1->Flask<3->mlflow->farm-haystack[colab]) (2.0.1)\n"
          ]
        },
        {
          "output_type": "stream",
          "name": "stderr",
          "text": [
            "WARNING: Running pip as the 'root' user can result in broken permissions and conflicting behaviour with the system package manager. It is recommended to use a virtual environment instead: https://pip.pypa.io/warnings/venv\n",
            "  Running command git clone --filter=blob:none --quiet https://github.com/deepset-ai/haystack.git /tmp/pip-install-01b1jau9/farm-haystack_8712dc2ea49946a98261b88bc9d4367d\n",
            "WARNING: Running pip as the 'root' user can result in broken permissions and conflicting behaviour with the system package manager. It is recommended to use a virtual environment instead: https://pip.pypa.io/warnings/venv\n"
          ]
        }
      ]
    },
    {
      "cell_type": "code",
      "source": [],
      "metadata": {
        "id": "QueG5NM2N_G3"
      },
      "execution_count": 2,
      "outputs": []
    },
    {
      "cell_type": "code",
      "source": [
        "import logging\n",
        "\n",
        "logging.basicConfig(format=\"%(levelname)s - %(name)s -  %(message)s\", level=logging.WARNING)\n",
        "logging.getLogger(\"haystack\").setLevel(logging.INFO)"
      ],
      "metadata": {
        "id": "ifo-6kgTKuCN"
      },
      "execution_count": 3,
      "outputs": []
    },
    {
      "cell_type": "code",
      "execution_count": 4,
      "metadata": {
        "colab": {
          "base_uri": "https://localhost:8080/"
        },
        "id": "DfsjTVUZAuQ_",
        "outputId": "4b6d95da-8a00-4191-d23f-4da0abf04f8d"
      },
      "outputs": [
        {
          "output_type": "stream",
          "name": "stderr",
          "text": [
            "WARNING:haystack.utils.doc_store:Tried to start Elasticsearch through Docker but this failed. It is likely that there is already an existing Elasticsearch instance running. \n"
          ]
        }
      ],
      "source": [
        "# Recommended: Start Elasticsearch using Docker via the Haystack utility function\n",
        "from haystack.utils import launch_es\n",
        "\n",
        "launch_es()\n"
      ]
    },
    {
      "cell_type": "code",
      "source": [
        "%%bash\n",
        "\n",
        "wget https://artifacts.elastic.co/downloads/elasticsearch/elasticsearch-7.9.2-linux-x86_64.tar.gz -q\n",
        "tar -xzf elasticsearch-7.9.2-linux-x86_64.tar.gz\n",
        "chown -R daemon:daemon elasticsearch-7.9.2\n"
      ],
      "metadata": {
        "id": "G2COxEFtA26d"
      },
      "execution_count": 5,
      "outputs": []
    },
    {
      "cell_type": "code",
      "source": [
        "%%bash --bg\n",
        "\n",
        "sudo -u daemon -- elasticsearch-7.9.2/bin/elasticsearch"
      ],
      "metadata": {
        "id": "q4cMEGFiMLzv"
      },
      "execution_count": 6,
      "outputs": []
    },
    {
      "cell_type": "code",
      "source": [],
      "metadata": {
        "id": "SzvlmBbyIRyo"
      },
      "execution_count": 6,
      "outputs": []
    },
    {
      "cell_type": "code",
      "source": [
        "import time\n",
        "time.sleep(30)"
      ],
      "metadata": {
        "id": "m8nV63UKJzdx"
      },
      "execution_count": 7,
      "outputs": []
    },
    {
      "cell_type": "code",
      "source": [
        "import os\n",
        "from haystack.document_stores import ElasticsearchDocumentStore\n"
      ],
      "metadata": {
        "id": "_fDvv_meKQWd"
      },
      "execution_count": 8,
      "outputs": []
    },
    {
      "cell_type": "code",
      "source": [
        "# Get the host where Elasticsearch is running, default to localhost\n",
        "host = os.environ.get(\"ELASTICSEARCH_HOST\", \"localhost\")\n",
        "document_store = ElasticsearchDocumentStore(host=host, username=\"\", password=\"\", index=\"document\")"
      ],
      "metadata": {
        "colab": {
          "base_uri": "https://localhost:8080/"
        },
        "id": "bzSSHR1_KO3n",
        "outputId": "09b7d612-5b1b-4450-cd8f-3da96e57028b"
      },
      "execution_count": 9,
      "outputs": [
        {
          "output_type": "stream",
          "name": "stderr",
          "text": [
            "INFO:haystack.telemetry:Haystack sends anonymous usage data to understand the actual usage and steer dev efforts towards features that are most meaningful to users. You can opt-out at anytime by calling disable_telemetry() or by manually setting the environment variable HAYSTACK_TELEMETRY_ENABLED as described for different operating systems on the documentation page. More information at https://docs.haystack.deepset.ai/docs/telemetry\n"
          ]
        }
      ]
    },
    {
      "cell_type": "code",
      "source": [
        "from haystack.utils import clean_wiki_text, convert_files_to_docs, fetch_archive_from_http\n"
      ],
      "metadata": {
        "id": "fXi2LxSwKPTe"
      },
      "execution_count": 10,
      "outputs": []
    },
    {
      "cell_type": "code",
      "source": [
        "doc_dir = \"/content/\"\n",
        "docs = convert_files_to_docs(dir_path=doc_dir, clean_func=clean_wiki_text, split_paragraphs=True)\n"
      ],
      "metadata": {
        "id": "GVs2HdsgO8rw"
      },
      "execution_count": null,
      "outputs": []
    },
    {
      "cell_type": "code",
      "source": [
        "print(docs[:3])"
      ],
      "metadata": {
        "colab": {
          "base_uri": "https://localhost:8080/"
        },
        "id": "t2WCTjf_PGXW",
        "outputId": "95d1a8f7-2e97-4853-a9dc-97e1c09c2acc"
      },
      "execution_count": 12,
      "outputs": [
        {
          "output_type": "stream",
          "name": "stdout",
          "text": [
            "[<Document: {'content': 'Fire engine accessway and fire engine access road\\n(3) PG II buildings exceeding 10m habitable height\\nFor a building under PG II that exceeds the habitable height of 10m, all of the\\nfollowing shall be complied with:\\na. A fire engine accessway/fire engine access road shall be provided within a travel\\ndistance of 18m to the entrance of all exit staircases where the landing valves (dry\\nor wet riser) are provided in accordance with Cl.6.2.2b.\\nb. A fire engine accessway of at least ¼ length of perimeter (minimum 15m),\\nwhichever is greater, shall be provided to access at least one entire façade of each\\nblock and shall be located at a distance of at least 2m and at most 10m away from\\nthe façade of the building. This is to facilitate rescue with direct access to unit\\nwindows (excluding exit staircase, smoke-free approach to exit staircase). For\\nthe purpose of computing the extent of perimeter for fire engine accessway,\\nonly the external facade perimeters of residential units are required to be\\nincluded. Common areas such as corridors/ lobbies, lift/ service shafts, exit\\nstaircase, landscape areas, etc. can be omitted from the computation.\\nc. The fire engine accessway shall be designed to meet the specifications stipulated\\nin Table 4.2A, Table 4.2D and Table 4.2E', 'content_type': 'text', 'score': None, 'meta': {'name': 'Fire engine accessway and fire engine access road.txt'}, 'embedding': None, 'id': 'e086515f4107e52631fa0894411de9ff'}>, <Document: {'content': '“Electromagnetic” or “electromechanical locking device” refers to a fail-safe device which provides access control. This device is designed to automatically unlock doors in the event of a fire, thereby helping to facilitate evacuation. An electromagnetic/electromechanical locking device shall be provided with a means of manual override located within the occupied space, 1.2m above the floor and within 1.5m of the door jamb.  Electromagnetic or electromechanical locking device “Electromagnetic” or “electromechanical locking device” refers to a fail-safe device which provides egress access control. In the event of a fire alarm activation, failure of building power supply, and/or any fault in the locking devices/ components, related to the release of locking mechanism, this device shall: a. automatically unlock doors immediately to facilitate egress, and remain so until power supply is restored; and b. be provided with a means of manual override located within the occupied space, 1.2m above the floor and within 1.5m of the door jamb', 'content_type': 'text', 'score': None, 'meta': {'name': 'Electromagnetic or electromechanical locking device.txt'}, 'embedding': None, 'id': '489f1234c1204598ac6a2c6db76b4ee5'}>, <Document: {'content': 'SS 641 – COP for fire safety for laboratories using Chemicals.\\nSS641 covers the safe use, handling, storage and disposal of flammable liquids, compressed and liquefied gases. It also\\ncovers fire safety requirement in terms of laboratory unit design and construction, fire protection, explosion hazard\\nprotection, ventilating system requirements as well as the storage, handling and disposal of flammable chemicals. Toxic\\nand hazardous chemicals are also included due to their potential impact on fires.\\nFire safety requirements for open plant processing structure\\nThe design of open plant processing facilities\\nin the oil, chemical and process industries\\nSS634- COP for fire safety for Open Plant Processing facilities in Oil, Chemical, Process Industries\\nSS634 covers the layout and spacing of open plant processing facilities, drainage of spillages and firefighting\\nwater, isolation of the plant, provision of means of escape, passive and active fire protection systems, and access\\nfor emergency responders and appliances. Applicable to open plant processing facilities in the oil, chemical and\\nprocess industries, including energy and utilities facilities.\\nDoes not apply to atmospheric storage tanks, which is usually sited away from process units, pressurized storage\\ntanks and cryogenic storage tanks\\nFire safety requirements for pipeline service\\nThe design, construction and operation of\\npipeline service corridors shall comply with\\nSS512 COP for Code of practice for the design, construction and operation of pipeline service corridors\\nThe companies on Jurong Island are linked to one another via a network of pipelines, which transverse\\na dedicated piece of land known as a ‘Pipeline Service Corridor’. These pipelines serve as a vital artery,\\nsupplying feedstock and products from one plant to another\\nHowever, in order for these pipelines to operate safely, it is necessary for consistent and appropriate\\nSS512 is the standard for the Pipeline service corridors – in terms of Design, construction and operation of\\npipeline service corridors in Singapore\\nFire safety requirement for storage of flammable\\nThe safe storage of flammable liquids shall comply\\nSS532 COP for the storage of flammable liquids\\nSS532 covers flammable liquids of Category 1.2.3and 4 as classified in GHS (Globally Harmonized System of\\nClassification and Labeling of Chemicals) . In addition, the standard also covers liquids of flash point up to\\n150˚--------It does not cover, among others, Liquified gases that are maintained in liquid phase , laboratories (\\nincluding storage area solely supporting laboratories operations ) and Petrol station.\\nFire safety requirement for storage of flammable\\nparticulate solids under Globally Harmonized\\nSystem of Classification and Labelling of Chemicals\\nFacilities storing flammable particulate solids classified\\nunder Class 4.1 (Flammable solid), 4.2 (Substance liable\\nto spontaneous combustion) and 4.3 (Substance\\ndangerous when contact with water) of the GHS shall\\nSS667 COP for handling , storage and processing of combustible dust\\nSS667 The code is applicable to industries (e.g. food processing, woodworking factories, pharmaceutical,\\npetrochemical, specialty chemicals, additive manufacturing, and logistics), research institutions and institutes of\\nhigher learning (IHL) that manufacture, process, blend, convey, repackage, generate or handle combustible dusts\\nor combustible particulate solids. This code is not applicable for warehousing of sealed containers of such\\nmaterials when not associated with an operation that handles or generates combustible dust', 'content_type': 'text', 'score': None, 'meta': {'name': 'Fire.txt'}, 'embedding': None, 'id': '2963cdceb182a60dd1b1490e41e45380'}>]\n"
          ]
        }
      ]
    },
    {
      "cell_type": "code",
      "source": [
        "document_store.write_documents(docs)"
      ],
      "metadata": {
        "id": "jQRnPlF2PQH-"
      },
      "execution_count": 13,
      "outputs": []
    },
    {
      "cell_type": "code",
      "source": [
        "from haystack.nodes import BM25Retriever\n",
        "\n",
        "retriever = BM25Retriever(document_store=document_store)"
      ],
      "metadata": {
        "id": "RzJNH8hWPTO-"
      },
      "execution_count": 14,
      "outputs": []
    },
    {
      "cell_type": "code",
      "source": [
        "from haystack.nodes import FARMReader\n",
        "\n",
        "# Load a  local model or any of the QA models on\n",
        "# Hugging Face's model hub (https://huggingface.co/models)\n",
        "\n",
        "reader = FARMReader(model_name_or_path=\"deepset/roberta-base-squad2\", use_gpu=True)"
      ],
      "metadata": {
        "id": "ULnVa1KKPZO5"
      },
      "execution_count": null,
      "outputs": []
    },
    {
      "cell_type": "code",
      "source": [
        "from haystack.nodes import TransformersReader\n"
      ],
      "metadata": {
        "id": "0F2AYQsXPc7H"
      },
      "execution_count": 16,
      "outputs": []
    },
    {
      "cell_type": "code",
      "source": [
        "from haystack.pipelines import ExtractiveQAPipeline\n",
        "\n",
        "pipe = ExtractiveQAPipeline(reader, retriever)"
      ],
      "metadata": {
        "id": "ElTuYro7Pjzf"
      },
      "execution_count": 17,
      "outputs": []
    },
    {
      "cell_type": "code",
      "source": [
        "prediction = pipe.run(\n",
        "    query=\"Fire safety?\", params={\"Retriever\": {\"top_k\": 10}, \"Reader\": {\"top_k\": 5}}\n",
        ")"
      ],
      "metadata": {
        "colab": {
          "base_uri": "https://localhost:8080/"
        },
        "id": "iXhuvSpqPm9D",
        "outputId": "b48fc6e9-8f4f-4141-c822-93cbaee01763"
      },
      "execution_count": 18,
      "outputs": [
        {
          "output_type": "stream",
          "name": "stderr",
          "text": [
            "Inferencing Samples: 100%|██████████| 1/1 [00:02<00:00,  2.72s/ Batches]\n"
          ]
        }
      ]
    },
    {
      "cell_type": "code",
      "source": [
        "from pprint import pprint\n",
        "\n",
        "pprint(prediction)"
      ],
      "metadata": {
        "colab": {
          "base_uri": "https://localhost:8080/"
        },
        "id": "W_dPIRarPraj",
        "outputId": "867091ff-3c4b-4dad-f318-ee2a7bcfe9cc"
      },
      "execution_count": 19,
      "outputs": [
        {
          "output_type": "stream",
          "name": "stdout",
          "text": [
            "{'answers': [<Answer {'answer': 'obstructions', 'type': 'extractive', 'score': 0.16412723064422607, 'context': 're engine accessways/fire engine access roads shall be kept clear of\\nobstructions at all times. Plants, trees or other fixtures shall not obstruct the', 'offsets_in_document': [{'start': 71, 'end': 83}], 'offsets_in_context': [{'start': 69, 'end': 81}], 'document_id': '5b88b3100f1bab1b18acf19198411a1b', 'meta': {'name': 'Obstruction.txt'}}>,\n",
            "             <Answer {'answer': 'A fire engine accessway/fire engine access road shall be provided within a travel\\ndistance of 18m to the entrance of all exit staircases', 'type': 'extractive', 'score': 0.11052802950143814, 'context': 'th:\\na. A fire engine accessway/fire engine access road shall be provided within a travel\\ndistance of 18m to the entrance of all exit staircases where ', 'offsets_in_document': [{'start': 218, 'end': 354}], 'offsets_in_context': [{'start': 7, 'end': 143}], 'document_id': 'e086515f4107e52631fa0894411de9ff', 'meta': {'name': 'Fire engine accessway and fire engine access road.txt'}}>,\n",
            "             <Answer {'answer': 'storage of flammable', 'type': 'extractive', 'score': 0.07022296637296677, 'context': 'eline service corridors in Singapore\\nFire safety requirement for storage of flammable\\nThe safe storage of flammable liquids shall comply\\nSS532 COP for', 'offsets_in_document': [{'start': 2093, 'end': 2113}], 'offsets_in_context': [{'start': 65, 'end': 85}], 'document_id': '2963cdceb182a60dd1b1490e41e45380', 'meta': {'name': 'Fire.txt'}}>,\n",
            "             <Answer {'answer': 'SS634- COP for fire safety for Open Plant Processing facilities in Oil, Chemical, Process Industries\\nSS634 covers the layout and spacing of open plant processing facilities, drainage of spillages and firefighting\\nwater, isolation of the plant, provision of means of escape, passive and active fire protection systems, and access\\nfor emergency responders and appliances', 'type': 'extractive', 'score': 0.037123680114746094, 'context': 'SS634- COP for fire safety for Open Plant Processing facilities in Oil, Chemical, Process Industries\\nSS634 covers the layout and spacing of open plant processing facilities, drainage of spillages and firefighting\\nwater, isolation of the plant, provision of means of escape, passive and active fire protection systems, and access\\nfor emergency responders and appliances', 'offsets_in_document': [{'start': 655, 'end': 1023}], 'offsets_in_context': [{'start': 0, 'end': 368}], 'document_id': '2963cdceb182a60dd1b1490e41e45380', 'meta': {'name': 'Fire.txt'}}>,\n",
            "             <Answer {'answer': 'Cl.6.2.2b.. The measurement of 18m shall be\\nbetween the fire engine accessway/fire engine\\naccess road and the entrance of exit staircase', 'type': 'extractive', 'score': 0.02518833428621292, 'context': 'ordance with\\nCl.6.2.2b.. The measurement of 18m shall be\\nbetween the fire engine accessway/fire engine\\naccess road and the entrance of exit staircase.', 'offsets_in_document': [{'start': 302, 'end': 438}], 'offsets_in_context': [{'start': 13, 'end': 149}], 'document_id': 'e89358e17f851359a2ac28679c7fb03b', 'meta': {'name': 'basement.txt'}}>],\n",
            " 'documents': [<Document: {'content': 'SS 641 – COP for fire safety for laboratories using Chemicals.\\nSS641 covers the safe use, handling, storage and disposal of flammable liquids, compressed and liquefied gases. It also\\ncovers fire safety requirement in terms of laboratory unit design and construction, fire protection, explosion hazard\\nprotection, ventilating system requirements as well as the storage, handling and disposal of flammable chemicals. Toxic\\nand hazardous chemicals are also included due to their potential impact on fires.\\nFire safety requirements for open plant processing structure\\nThe design of open plant processing facilities\\nin the oil, chemical and process industries\\nSS634- COP for fire safety for Open Plant Processing facilities in Oil, Chemical, Process Industries\\nSS634 covers the layout and spacing of open plant processing facilities, drainage of spillages and firefighting\\nwater, isolation of the plant, provision of means of escape, passive and active fire protection systems, and access\\nfor emergency responders and appliances. Applicable to open plant processing facilities in the oil, chemical and\\nprocess industries, including energy and utilities facilities.\\nDoes not apply to atmospheric storage tanks, which is usually sited away from process units, pressurized storage\\ntanks and cryogenic storage tanks\\nFire safety requirements for pipeline service\\nThe design, construction and operation of\\npipeline service corridors shall comply with\\nSS512 COP for Code of practice for the design, construction and operation of pipeline service corridors\\nThe companies on Jurong Island are linked to one another via a network of pipelines, which transverse\\na dedicated piece of land known as a ‘Pipeline Service Corridor’. These pipelines serve as a vital artery,\\nsupplying feedstock and products from one plant to another\\nHowever, in order for these pipelines to operate safely, it is necessary for consistent and appropriate\\nSS512 is the standard for the Pipeline service corridors – in terms of Design, construction and operation of\\npipeline service corridors in Singapore\\nFire safety requirement for storage of flammable\\nThe safe storage of flammable liquids shall comply\\nSS532 COP for the storage of flammable liquids\\nSS532 covers flammable liquids of Category 1.2.3and 4 as classified in GHS (Globally Harmonized System of\\nClassification and Labeling of Chemicals) . In addition, the standard also covers liquids of flash point up to\\n150˚--------It does not cover, among others, Liquified gases that are maintained in liquid phase , laboratories (\\nincluding storage area solely supporting laboratories operations ) and Petrol station.\\nFire safety requirement for storage of flammable\\nparticulate solids under Globally Harmonized\\nSystem of Classification and Labelling of Chemicals\\nFacilities storing flammable particulate solids classified\\nunder Class 4.1 (Flammable solid), 4.2 (Substance liable\\nto spontaneous combustion) and 4.3 (Substance\\ndangerous when contact with water) of the GHS shall\\nSS667 COP for handling , storage and processing of combustible dust\\nSS667 The code is applicable to industries (e.g. food processing, woodworking factories, pharmaceutical,\\npetrochemical, specialty chemicals, additive manufacturing, and logistics), research institutions and institutes of\\nhigher learning (IHL) that manufacture, process, blend, convey, repackage, generate or handle combustible dusts\\nor combustible particulate solids. This code is not applicable for warehousing of sealed containers of such\\nmaterials when not associated with an operation that handles or generates combustible dust', 'content_type': 'text', 'score': 0.896358396342832, 'meta': {'name': 'Fire.txt'}, 'embedding': None, 'id': '2963cdceb182a60dd1b1490e41e45380'}>,\n",
            "               <Document: {'content': 'Fire engine accessway and fire engine access road\\n(3) PG II buildings exceeding 10m habitable height\\nFor a building under PG II that exceeds the habitable height of 10m, all of the\\nfollowing shall be complied with:\\na. A fire engine accessway/fire engine access road shall be provided within a travel\\ndistance of 18m to the entrance of all exit staircases where the landing valves (dry\\nor wet riser) are provided in accordance with Cl.6.2.2b.\\nb. A fire engine accessway of at least ¼ length of perimeter (minimum 15m),\\nwhichever is greater, shall be provided to access at least one entire façade of each\\nblock and shall be located at a distance of at least 2m and at most 10m away from\\nthe façade of the building. This is to facilitate rescue with direct access to unit\\nwindows (excluding exit staircase, smoke-free approach to exit staircase). For\\nthe purpose of computing the extent of perimeter for fire engine accessway,\\nonly the external facade perimeters of residential units are required to be\\nincluded. Common areas such as corridors/ lobbies, lift/ service shafts, exit\\nstaircase, landscape areas, etc. can be omitted from the computation.\\nc. The fire engine accessway shall be designed to meet the specifications stipulated\\nin Table 4.2A, Table 4.2D and Table 4.2E', 'content_type': 'text', 'score': 0.7121395986242518, 'meta': {'name': 'Fire engine accessway and fire engine access road.txt'}, 'embedding': None, 'id': 'e086515f4107e52631fa0894411de9ff'}>,\n",
            "               <Document: {'content': 'Fire engine accessways/fire engine access roads shall be kept clear of\\nobstructions at all times. Plants, trees or other fixtures shall not obstruct the\\npath between the fire engine accessway and fire access openings.\\n(a) Where an access control system for unmanned building (exclude PG I\\nbuilding) such as a barrier, sliding/swing gate, etc. is provided at the\\nentrance into the development, such systems\\nshall automatically open upon detection of firefighting\\nappliances (such as In-vehicle Unit (IU) for emergency vehicles)\\nor activation of the building fire alarm, and shall remain open\\nuntil the access control system has been manually reset; and\\nii. shall be arranged to open automatically from a fail-safe manual\\noverride device located 1.2m above the floor and within 1.5m\\nfacing the external side of the development, with the manual\\noverride device readily accessible and clearly identified by a sign\\nthat reads “Emergency Release”.\\n(b) For manned building, the barrier at the entrance into the development\\nshall be immediately opened/removed upon building’s fire alarm activation.', 'content_type': 'text', 'score': 0.7110079639534841, 'meta': {'name': 'Obstruction.txt'}, 'embedding': None, 'id': '5b88b3100f1bab1b18acf19198411a1b'}>,\n",
            "               <Document: {'content': 'In the case of a basement, the fire engine\\naccessway/fire engine access road shall be provided\\nto within a travel distance of 18m to the entrance\\nof all exit staircases where the landing valves (dry\\nor wet riser) are provided that are provided with\\nlanding valves (dry or wet riser) in accordance with\\nCl.6.2.2b.. The measurement of 18m shall be\\nbetween the fire engine accessway/fire engine\\naccess road and the entrance of exit staircase.', 'content_type': 'text', 'score': 0.7083149442899097, 'meta': {'name': 'basement.txt'}, 'embedding': None, 'id': 'e89358e17f851359a2ac28679c7fb03b'}>,\n",
            "               <Document: {'content': '\"Habitable floor” refers to all floors in a building, including the roof level. The roof level can be taken as non-habitable if it is not used for any purpose/activity other than housing M&E plants/equipment, e.g. lift motors, fire pumps, generators, fire hose reel pumps, water supply pumps, water tanks, cooling towers, solar photovoltaic panels, supply/ exhaust fans with associated ductwork, air-con condensing units, telecommunication equipment, satellite dishes, and public warning sirens, green roofs inaccessible to public and for maintenance access only, etc.  \\nNon Habitable Green Roof  No access for the public– Green roof created to lower the building’s surface temperature and also reduce the glare reflected onto neighboring blocks ', 'content_type': 'text', 'score': 0.6909413385833498, 'meta': {'name': 'Habitable floor.txt'}, 'embedding': None, 'id': '8a920ee7386aff14ca071ef7d7b39c49'}>,\n",
            "               <Document: {'content': '“Electromagnetic” or “electromechanical locking device” refers to a fail-safe device which provides access control. This device is designed to automatically unlock doors in the event of a fire, thereby helping to facilitate evacuation. An electromagnetic/electromechanical locking device shall be provided with a means of manual override located within the occupied space, 1.2m above the floor and within 1.5m of the door jamb.  Electromagnetic or electromechanical locking device “Electromagnetic” or “electromechanical locking device” refers to a fail-safe device which provides egress access control. In the event of a fire alarm activation, failure of building power supply, and/or any fault in the locking devices/ components, related to the release of locking mechanism, this device shall: a. automatically unlock doors immediately to facilitate egress, and remain so until power supply is restored; and b. be provided with a means of manual override located within the occupied space, 1.2m above the floor and within 1.5m of the door jamb', 'content_type': 'text', 'score': 0.6880983602928247, 'meta': {'name': 'Electromagnetic or electromechanical locking device.txt'}, 'embedding': None, 'id': '489f1234c1204598ac6a2c6db76b4ee5'}>,\n",
            "               <Document: {'content': '“External exit staircase” refers to an exit staircase located outside a building, open to the external space, and that: a. is enclosed by parapet walls or railing of not more than 1.1m in height; and b. has at least two adjacent sides or one of its longest sides abutting the external space.; and c. is recessed not more than 3m from the building façade.   Under Clause 2.2.13 c (1)b. smoke free lobby is not required if full compliance of External exit staircase  But if the External exit staircase is serving the Fire lift, smoke free lobby is still required under Cl.2.2.13c(2)c ', 'content_type': 'text', 'score': 0.6661502129196306, 'meta': {'name': 'External exit staircase.txt'}, 'embedding': None, 'id': '5d2df6af4e600df543e2a5e25b3f2fdc'}>],\n",
            " 'no_ans_gap': -2.735805928707123,\n",
            " 'node_id': 'Reader',\n",
            " 'params': {'Reader': {'top_k': 5}, 'Retriever': {'top_k': 10}},\n",
            " 'query': 'Fire safety?',\n",
            " 'root_node': 'Query'}\n"
          ]
        }
      ]
    },
    {
      "cell_type": "code",
      "source": [
        "from haystack.utils import print_answers\n",
        "\n",
        "# Change `minimum` to `medium` or `all` to raise the level of detail\n",
        "print_answers(prediction, details=\"minimum\")"
      ],
      "metadata": {
        "colab": {
          "base_uri": "https://localhost:8080/"
        },
        "id": "AronifFrPvyI",
        "outputId": "6dc82ab6-bdd0-4d18-9d7f-b47952d80415"
      },
      "execution_count": 20,
      "outputs": [
        {
          "output_type": "stream",
          "name": "stdout",
          "text": [
            "\n",
            "Query: Fire safety?\n",
            "Answers:\n",
            "[   {   'answer': 'obstructions',\n",
            "        'context': 're engine accessways/fire engine access roads shall be '\n",
            "                   'kept clear of\\n'\n",
            "                   'obstructions at all times. Plants, trees or other fixtures '\n",
            "                   'shall not obstruct the'},\n",
            "    {   'answer': 'A fire engine accessway/fire engine access road shall be '\n",
            "                  'provided within a travel\\n'\n",
            "                  'distance of 18m to the entrance of all exit staircases',\n",
            "        'context': 'th:\\n'\n",
            "                   'a. A fire engine accessway/fire engine access road shall '\n",
            "                   'be provided within a travel\\n'\n",
            "                   'distance of 18m to the entrance of all exit staircases '\n",
            "                   'where '},\n",
            "    {   'answer': 'storage of flammable',\n",
            "        'context': 'eline service corridors in Singapore\\n'\n",
            "                   'Fire safety requirement for storage of flammable\\n'\n",
            "                   'The safe storage of flammable liquids shall comply\\n'\n",
            "                   'SS532 COP for'},\n",
            "    {   'answer': 'SS634- COP for fire safety for Open Plant Processing '\n",
            "                  'facilities in Oil, Chemical, Process Industries\\n'\n",
            "                  'SS634 covers the layout and spacing of open plant '\n",
            "                  'processing facilities, drainage of spillages and '\n",
            "                  'firefighting\\n'\n",
            "                  'water, isolation of the plant, provision of means of '\n",
            "                  'escape, passive and active fire protection systems, and '\n",
            "                  'access\\n'\n",
            "                  'for emergency responders and appliances',\n",
            "        'context': 'SS634- COP for fire safety for Open Plant Processing '\n",
            "                   'facilities in Oil, Chemical, Process Industries\\n'\n",
            "                   'SS634 covers the layout and spacing of open plant '\n",
            "                   'processing facilities, drainage of spillages and '\n",
            "                   'firefighting\\n'\n",
            "                   'water, isolation of the plant, provision of means of '\n",
            "                   'escape, passive and active fire protection systems, and '\n",
            "                   'access\\n'\n",
            "                   'for emergency responders and appliances'},\n",
            "    {   'answer': 'Cl.6.2.2b.. The measurement of 18m shall be\\n'\n",
            "                  'between the fire engine accessway/fire engine\\n'\n",
            "                  'access road and the entrance of exit staircase',\n",
            "        'context': 'ordance with\\n'\n",
            "                   'Cl.6.2.2b.. The measurement of 18m shall be\\n'\n",
            "                   'between the fire engine accessway/fire engine\\n'\n",
            "                   'access road and the entrance of exit staircase.'}]\n"
          ]
        }
      ]
    },
    {
      "cell_type": "code",
      "source": [],
      "metadata": {
        "id": "590ZeT0KQDEc"
      },
      "execution_count": null,
      "outputs": []
    }
  ]
}